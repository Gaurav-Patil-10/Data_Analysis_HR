{
 "cells": [
  {
   "cell_type": "code",
   "execution_count": 6,
   "id": "2382a965",
   "metadata": {},
   "outputs": [],
   "source": [
    "\n",
    "# !pip install requests\n",
    "import pandas as pd\n",
    "import requests\n",
    "import os\n",
    "\n",
    "\n",
    "# scroll down to the bottom to implement your solution\n",
    "\n",
    "\n",
    "\n",
    "df_a = pd.read_xml('../Data/A_office_data.xml')\n",
    "df_b = pd.read_xml('../Data/B_office_data.xml')\n",
    "df_hr = pd.read_xml('../Data/hr_data.xml')\n",
    "\n"
   ]
  },
  {
   "cell_type": "code",
   "execution_count": 7,
   "id": "c7c9eac0",
   "metadata": {},
   "outputs": [],
   "source": [
    "df_a.index = ['A' + str(x) for x in df_a.iloc[:, 7]]\n",
    "df_b.index = ['B' + str(x) for x in df_b.iloc[:, 7]]"
   ]
  },
  {
   "cell_type": "code",
   "execution_count": 8,
   "id": "3d0fe938",
   "metadata": {},
   "outputs": [],
   "source": [
    "df_hr.set_index('employee_id', inplace=True)\n",
    "df = pd.concat([df_a, df_b])\n",
    "df = df.merge(df_hr, left_index=True, right_index=True, indicator=True)\n",
    "df.sort_index(inplace=True)\n",
    "df.drop(columns=['employee_office_id', '_merge'], inplace=True)"
   ]
  },
  {
   "cell_type": "code",
   "execution_count": 10,
   "id": "5a18ab14",
   "metadata": {},
   "outputs": [],
   "source": [
    "print(df.sort_values(by=['average_monthly_hours'], ascending=False).loc[:, 'Department'].head(10).values.tolist())\n",
    "print(df.query(\"salary == 'low' & Department == 'IT'\").loc[:, 'number_project'].sum().tolist())\n",
    "print(df.loc[['A4', 'B7064', 'A3033'], ['last_evaluation', 'satisfaction_level']].values.tolist())"
   ]
  },
  {
   "cell_type": "code",
   "execution_count": 11,
   "id": "1817129b",
   "metadata": {},
   "outputs": [],
   "source": [
    "grouped_data = df.groupby('left')\n",
    "\n",
    "metric = {\n",
    "    'num_projects_median' : ('number_project' , 'median'),\n",
    "    'count_bigger_5' : ('number_project' , lambda x: sum(x>5)),\n",
    "    'time_spent_mean':('time_spend_company','mean'),\n",
    "    'time_spent_median':('time_spend_company','median'),\n",
    "    'work_accident_share':('time_spend_company','median'),\n",
    "    \n",
    "}"
   ]
  }
 ],
 "metadata": {
  "kernelspec": {
   "display_name": "Python 3 (ipykernel)",
   "language": "python",
   "name": "python3"
  },
  "language_info": {
   "codemirror_mode": {
    "name": "ipython",
    "version": 3
   },
   "file_extension": ".py",
   "mimetype": "text/x-python",
   "name": "python",
   "nbconvert_exporter": "python",
   "pygments_lexer": "ipython3",
   "version": "3.10.8"
  }
 },
 "nbformat": 4,
 "nbformat_minor": 5
}
