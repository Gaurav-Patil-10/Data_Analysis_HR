{
 "cells": [
  {
   "cell_type": "code",
   "execution_count": 3,
   "id": "2382a965",
   "metadata": {},
   "outputs": [
    {
     "ename": "XMLSyntaxError",
     "evalue": "Start tag expected, '<' not found, line 1, column 1 (<string>, line 1)",
     "output_type": "error",
     "traceback": [
      "Traceback \u001b[1;36m(most recent call last)\u001b[0m:\n",
      "\u001b[0m  File \u001b[0;32m~\\AppData\\Roaming\\Python\\Python310\\site-packages\\IPython\\core\\interactiveshell.py:3460\u001b[0m in \u001b[0;35mrun_code\u001b[0m\n    exec(code_obj, self.user_global_ns, self.user_ns)\u001b[0m\n",
      "\u001b[0m  Cell \u001b[0;32mIn[3], line 11\u001b[0m\n    df_a = pd.read_xml('../Data/A_office_data')\u001b[0m\n",
      "\u001b[0m  File \u001b[0;32mC:\\Python310\\lib\\site-packages\\pandas\\util\\_decorators.py:331\u001b[0m in \u001b[0;35mwrapper\u001b[0m\n    return func(*args, **kwargs)\u001b[0m\n",
      "\u001b[0m  File \u001b[0;32mC:\\Python310\\lib\\site-packages\\pandas\\io\\xml.py:1088\u001b[0m in \u001b[0;35mread_xml\u001b[0m\n    return _parse(\u001b[0m\n",
      "\u001b[0m  File \u001b[0;32mC:\\Python310\\lib\\site-packages\\pandas\\io\\xml.py:827\u001b[0m in \u001b[0;35m_parse\u001b[0m\n    data_dicts = p.parse_data()\u001b[0m\n",
      "\u001b[0m  File \u001b[0;32mC:\\Python310\\lib\\site-packages\\pandas\\io\\xml.py:551\u001b[0m in \u001b[0;35mparse_data\u001b[0m\n    self.xml_doc = self._parse_doc(self.path_or_buffer)\u001b[0m\n",
      "\u001b[0m  File \u001b[0;32mC:\\Python310\\lib\\site-packages\\pandas\\io\\xml.py:636\u001b[0m in \u001b[0;35m_parse_doc\u001b[0m\n    doc = fromstring(\u001b[0m\n",
      "\u001b[0m  File \u001b[0;32msrc\\lxml\\etree.pyx:3257\u001b[0m in \u001b[0;35mlxml.etree.fromstring\u001b[0m\n",
      "\u001b[0m  File \u001b[0;32msrc\\lxml\\parser.pxi:1916\u001b[0m in \u001b[0;35mlxml.etree._parseMemoryDocument\u001b[0m\n",
      "\u001b[0m  File \u001b[0;32msrc\\lxml\\parser.pxi:1803\u001b[0m in \u001b[0;35mlxml.etree._parseDoc\u001b[0m\n",
      "\u001b[0m  File \u001b[0;32msrc\\lxml\\parser.pxi:1144\u001b[0m in \u001b[0;35mlxml.etree._BaseParser._parseDoc\u001b[0m\n",
      "\u001b[0m  File \u001b[0;32msrc\\lxml\\parser.pxi:618\u001b[0m in \u001b[0;35mlxml.etree._ParserContext._handleParseResultDoc\u001b[0m\n",
      "\u001b[0m  File \u001b[0;32msrc\\lxml\\parser.pxi:728\u001b[0m in \u001b[0;35mlxml.etree._handleParseResult\u001b[0m\n",
      "\u001b[1;36m  File \u001b[1;32msrc\\lxml\\parser.pxi:657\u001b[1;36m in \u001b[1;35mlxml.etree._raiseParseError\u001b[1;36m\n",
      "\u001b[1;36m  File \u001b[1;32m<string>:1\u001b[1;36m\u001b[0m\n\u001b[1;31mXMLSyntaxError\u001b[0m\u001b[1;31m:\u001b[0m Start tag expected, '<' not found, line 1, column 1\n"
     ]
    }
   ],
   "source": [
    "\n",
    "# !pip install requests\n",
    "import pandas as pd\n",
    "import requests\n",
    "import os\n",
    "\n",
    "\n",
    "# scroll down to the bottom to implement your solution\n",
    "\n",
    "\n",
    "\n",
    "df_a = pd.read_xml('../Data/A_office_data')\n",
    "df_b = pd.read_xml('../Data/B_office_data')\n",
    "df_hr = pd.read_xml('../Data/hr_data')\n",
    "\n"
   ]
  },
  {
   "cell_type": "code",
   "execution_count": null,
   "id": "c7c9eac0",
   "metadata": {},
   "outputs": [],
   "source": [
    "df_a.index = ['A' + str(x) for x in df_a.iloc[:, 7]]\n",
    "df_b.index = ['B' + str(x) for x in df_b.iloc[:, 7]]"
   ]
  },
  {
   "cell_type": "code",
   "execution_count": null,
   "id": "3d0fe938",
   "metadata": {},
   "outputs": [],
   "source": [
    "df_hr.set_index('employee_id', inplace=True)\n",
    "df = pd.concat([df_a, df_b])\n",
    "df = df.merge(df_hr, left_index=True, right_index=True, indicator=True)\n",
    "df.sort_index(inplace=True)\n",
    "df.drop(columns=['employee_office_id', '_merge'], inplace=True)"
   ]
  },
  {
   "cell_type": "code",
   "execution_count": null,
   "id": "5a18ab14",
   "metadata": {},
   "outputs": [],
   "source": [
    "print(df.sort_values(by=['average_monthly_hours'], ascending=False).loc[:, 'Department'].head(10).values.tolist())\n",
    "print(df.query(\"salary == 'low' & Department == 'IT'\").loc[:, 'number_project'].sum().tolist())\n",
    "print(df.loc[['A4', 'B7064', 'A3033'], ['last_evaluation', 'satisfaction_level']].values.tolist())"
   ]
  },
  {
   "cell_type": "code",
   "execution_count": null,
   "id": "1817129b",
   "metadata": {},
   "outputs": [],
   "source": [
    "grouped_data = df.groupby('left')\n",
    "\n",
    "metrics = {\n",
    "    'num_projects_median' : ('number_project' , 'median'),\n",
    "    'count_bigger_5' : ('number_project' , lambda x: sum(x>5)),\n",
    "    'time_spent_mean':('time_spend_company','mean'),\n",
    "    'time_spent_median':('time_spend_company','median'),\n",
    "    'work_accident_share':('time_spend_company','median'),\n",
    "    'last_evaluation_mean': ('last_evaluation', 'mean'),\n",
    "    'last_evaluation_std':('last_evaluation', 'std'),\n",
    "}\n",
    "\n",
    "group_metrics = grouped_data.agg(metrics)\n",
    "\n",
    "result_dict = group_metrics.to_dict()\n",
    "\n",
    "print(result_dict)"
   ]
  }
 ],
 "metadata": {
  "kernelspec": {
   "display_name": "Python 3 (ipykernel)",
   "language": "python",
   "name": "python3"
  },
  "language_info": {
   "codemirror_mode": {
    "name": "ipython",
    "version": 3
   },
   "file_extension": ".py",
   "mimetype": "text/x-python",
   "name": "python",
   "nbconvert_exporter": "python",
   "pygments_lexer": "ipython3",
   "version": "3.10.8"
  }
 },
 "nbformat": 4,
 "nbformat_minor": 5
}
